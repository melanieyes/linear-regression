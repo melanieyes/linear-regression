{
 "cells": [
  {
   "cell_type": "markdown",
   "metadata": {
    "id": "SrVx-zkD4HUj"
   },
   "source": [
    "# Assignment 2: Linear regression {-}\n",
    "\n",
    "This assignment aims at familiarizing you with the use of Linear Regression model supported by scikit-learn. You will have to:\n",
    "\n",
    "- Analyze the data.\n",
    "- Pre-process the data.\n",
    "- Split train/test sets.\n",
    "- Train a Linear Regression model using the training set, then make prediction on the test set.\n",
    "- Evaluate the model performance on the test set.\n",
    "\n",
    "The dataset you will be working on is 'house-loan.csv'. It is composed of attributes such as gender, age, income, etc. This dataset is to predict the loan amount for which a customer can request a bank with his/her collateral house.\n",
    "\n",
    "### Submission {-}\n",
    "The structure of submission folder should be organized as follows:\n",
    "\n",
    "- ./\\<StudentID>-assignment2-notebook.ipynb: Jupyter notebook containing source code.\n",
    "\n",
    "The submission folder is named DataViz-\\<StudentID>-Assignment2 (e.g., DataViz-2012345-Assigment2) and then compressed with the same name.\n",
    "    \n",
    "### Evaluation {-}\n",
    "Assignment evaluation will be conducted on how properly you analyze, pre-process, split the data for training/testing purpose, then build a regression model and evaluate the model performance.\n",
    "\n",
    "Note that the evaluation will not consider the model accuracy as the most important criterion, but how properly you handle the data and build the model to learn the data pattern.\n",
    "\n",
    "### Deadline {-}\n",
    "Please visit Canvas for details.\n"
   ]
  },
  {
   "cell_type": "code",
   "execution_count": 2,
   "metadata": {
    "id": "apE0gGK003H2"
   },
   "outputs": [],
   "source": [
    "import numpy as np\n",
    "import pandas as pd"
   ]
  },
  {
   "cell_type": "markdown",
   "metadata": {
    "id": "SrVx-zkD4HUj"
   },
   "source": [
    "This is a dataset about loan amount for which a customer can request a bank with his/her collateral house.\n",
    "\n",
    "* Gender: Gender of customer requesting for a loan ('F' or 'M').\n",
    "* Age: Age of customer requesting for a loan (non-negative values).\n",
    "* Income (USD): Income of customer requesting for a loan (non-negative values).\n",
    "* Income Stability: Income stability of customer requesting for a loan (\"Low\" or \"High\").\n",
    "* Property Age: Age of the property (non-negative number of days).\n",
    "* Property Location: Location of the property (\"Rural\", \"Urban\", and \"Semi-Urban\").\n",
    "* Property Price: Price of the property (USD).\n",
    "* Loan Sanction Amount (USD): Ammount of loan the customer can requst for (USD, target value)."
   ]
  },
  {
   "cell_type": "code",
   "execution_count": 3,
   "metadata": {
    "colab": {
     "base_uri": "https://localhost:8080/",
     "height": 337
    },
    "executionInfo": {
     "elapsed": 569,
     "status": "ok",
     "timestamp": 1654249905194,
     "user": {
      "displayName": "Sơn Huỳnh Thanh",
      "userId": "12358216226509522886"
     },
     "user_tz": -420
    },
    "id": "fjJKhhIk-h4F",
    "outputId": "6bcaf199-cb75-4aa7-db35-b0ec3cf84c52"
   },
   "outputs": [
    {
     "data": {
      "text/html": [
       "<div>\n",
       "<style scoped>\n",
       "    .dataframe tbody tr th:only-of-type {\n",
       "        vertical-align: middle;\n",
       "    }\n",
       "\n",
       "    .dataframe tbody tr th {\n",
       "        vertical-align: top;\n",
       "    }\n",
       "\n",
       "    .dataframe thead th {\n",
       "        text-align: right;\n",
       "    }\n",
       "</style>\n",
       "<table border=\"1\" class=\"dataframe\">\n",
       "  <thead>\n",
       "    <tr style=\"text-align: right;\">\n",
       "      <th></th>\n",
       "      <th>Gender</th>\n",
       "      <th>Age</th>\n",
       "      <th>Income (USD)</th>\n",
       "      <th>Income Stability</th>\n",
       "      <th>Property Age</th>\n",
       "      <th>Property Location</th>\n",
       "      <th>Property Price</th>\n",
       "      <th>Loan Sanction Amount (USD)</th>\n",
       "    </tr>\n",
       "  </thead>\n",
       "  <tbody>\n",
       "    <tr>\n",
       "      <th>0</th>\n",
       "      <td>F</td>\n",
       "      <td>19</td>\n",
       "      <td>1641.25</td>\n",
       "      <td>Low</td>\n",
       "      <td>1651.25</td>\n",
       "      <td>Rural</td>\n",
       "      <td>59641.82</td>\n",
       "      <td>21026.420753</td>\n",
       "    </tr>\n",
       "    <tr>\n",
       "      <th>1</th>\n",
       "      <td>M</td>\n",
       "      <td>29</td>\n",
       "      <td>1989.71</td>\n",
       "      <td>Low</td>\n",
       "      <td>1990.71</td>\n",
       "      <td>Urban</td>\n",
       "      <td>179858.51</td>\n",
       "      <td>60595.183366</td>\n",
       "    </tr>\n",
       "    <tr>\n",
       "      <th>2</th>\n",
       "      <td>F</td>\n",
       "      <td>37</td>\n",
       "      <td>1849.91</td>\n",
       "      <td>Low</td>\n",
       "      <td>1856.91</td>\n",
       "      <td>Rural</td>\n",
       "      <td>117297.62</td>\n",
       "      <td>39181.648002</td>\n",
       "    </tr>\n",
       "    <tr>\n",
       "      <th>3</th>\n",
       "      <td>M</td>\n",
       "      <td>65</td>\n",
       "      <td>2735.18</td>\n",
       "      <td>High</td>\n",
       "      <td>2747.18</td>\n",
       "      <td>Rural</td>\n",
       "      <td>354417.72</td>\n",
       "      <td>128497.710865</td>\n",
       "    </tr>\n",
       "    <tr>\n",
       "      <th>4</th>\n",
       "      <td>F</td>\n",
       "      <td>62</td>\n",
       "      <td>4741.78</td>\n",
       "      <td>High</td>\n",
       "      <td>4740.78</td>\n",
       "      <td>Urban</td>\n",
       "      <td>82049.80</td>\n",
       "      <td>39386.919336</td>\n",
       "    </tr>\n",
       "  </tbody>\n",
       "</table>\n",
       "</div>"
      ],
      "text/plain": [
       "  Gender  Age  Income (USD) Income Stability  Property Age Property Location  \\\n",
       "0      F   19       1641.25              Low       1651.25             Rural   \n",
       "1      M   29       1989.71              Low       1990.71             Urban   \n",
       "2      F   37       1849.91              Low       1856.91             Rural   \n",
       "3      M   65       2735.18             High       2747.18             Rural   \n",
       "4      F   62       4741.78             High       4740.78             Urban   \n",
       "\n",
       "   Property Price  Loan Sanction Amount (USD)  \n",
       "0        59641.82                21026.420753  \n",
       "1       179858.51                60595.183366  \n",
       "2       117297.62                39181.648002  \n",
       "3       354417.72               128497.710865  \n",
       "4        82049.80                39386.919336  "
      ]
     },
     "execution_count": 3,
     "metadata": {},
     "output_type": "execute_result"
    }
   ],
   "source": [
    "# Load and display data\n",
    "data = pd.read_csv(\"house_loan.csv\")\n",
    "data.head()"
   ]
  },
  {
   "cell_type": "code",
   "execution_count": 3,
   "metadata": {},
   "outputs": [],
   "source": [
    "# Your code goes here"
   ]
  }
 ],
 "metadata": {
  "colab": {
   "authorship_tag": "ABX9TyPVFi4XB/WnkqYK53nNehCr",
   "collapsed_sections": [],
   "mount_file_id": "1CEFiJUHarMxMFtKqrGaMaOTLggNRY-GW",
   "name": "Bài tập về nhà",
   "provenance": []
  },
  "kernelspec": {
   "display_name": "Python 3 (ipykernel)",
   "language": "python",
   "name": "python3"
  },
  "language_info": {
   "codemirror_mode": {
    "name": "ipython",
    "version": 3
   },
   "file_extension": ".py",
   "mimetype": "text/x-python",
   "name": "python",
   "nbconvert_exporter": "python",
   "pygments_lexer": "ipython3",
   "version": "3.8.3"
  }
 },
 "nbformat": 4,
 "nbformat_minor": 4
}
